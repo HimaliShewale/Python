{
  "cells": [
    {
      "cell_type": "markdown",
      "metadata": {
        "id": "view-in-github",
        "colab_type": "text"
      },
      "source": [
        "<a href=\"https://colab.research.google.com/github/HimaliShewale/Python/blob/main/Linear_Regression_and_Gradient_Descent.ipynb\" target=\"_parent\"><img src=\"https://colab.research.google.com/assets/colab-badge.svg\" alt=\"Open In Colab\"/></a>"
      ]
    },
    {
      "cell_type": "markdown",
      "id": "configured-background",
      "metadata": {
        "id": "configured-background"
      },
      "source": [
        "# Assignment 3: Linear Regression and Gradient Descent\n",
        "\n",
        "\n",
        "## Collaboration Policy\n",
        "\n",
        "This is a group assignment. Please list the names of group members below."
      ]
    },
    {
      "cell_type": "markdown",
      "id": "graduate-tractor",
      "metadata": {
        "id": "graduate-tractor"
      },
      "source": [
        "**Collaborators**:\n",
        "1. Himali Shewale\n",
        "2. Dhrumil Buch\n",
        "3. Sharad Parmar"
      ]
    },
    {
      "cell_type": "markdown",
      "id": "surrounded-turkish",
      "metadata": {
        "id": "surrounded-turkish"
      },
      "source": [
        "## Scoring Breakdown\n",
        "\n",
        "|Question|Points|\n",
        "|---|---|\n",
        "|1.a|10|\n",
        "|1.b|10|\n",
        "|2.a|10|\n",
        "|2.b|10|\n",
        "|2.c|10|\n",
        "|2.d|10|\n",
        "|2.e|10|\n",
        "|3.a|20|\n",
        "|3.b|10|\n",
        "|**Total**|100|"
      ]
    },
    {
      "cell_type": "markdown",
      "id": "elementary-population",
      "metadata": {
        "id": "elementary-population"
      },
      "source": [
        "## Question 1.\n",
        "Suppose we create a linear model with parameters $\\vec{\\hat{\\beta}}=[\\hat{\\beta}_0,...,\\hat{\\beta}_p]$\n",
        "As we saw in lecture, such a model makes predictions $\\hat{y}=\\vec{\\hat{\\beta}}.\\vec{x}=\\sum{\\hat{\\beta}_ix_i}$\n",
        "\n",
        "\n",
        "### 1.a.\n",
        "Suppose $\\vec{\\hat{\\beta}}=[1,2,1]$ and e receive an observation $x = [4, 2, 1]$. What $\\hat{y}$ value will\n",
        "this model predict for the given observation?"
      ]
    },
    {
      "cell_type": "markdown",
      "id": "valuable-french",
      "metadata": {
        "id": "valuable-french"
      },
      "source": [
        "9"
      ]
    },
    {
      "cell_type": "markdown",
      "id": "beneficial-burke",
      "metadata": {
        "id": "beneficial-burke"
      },
      "source": [
        "### 1.b.\n",
        "Suppose the correct $y$ was 6.1. What will be the L2 loss for our prediction $\\hat{y}$ from question 1.a?"
      ]
    },
    {
      "cell_type": "markdown",
      "id": "listed-savannah",
      "metadata": {
        "id": "listed-savannah"
      },
      "source": [
        "8.41"
      ]
    },
    {
      "cell_type": "markdown",
      "id": "favorite-empire",
      "metadata": {
        "id": "favorite-empire"
      },
      "source": [
        "## Question 2.\n",
        "\n",
        "The following function generates the dataset you need for the rest of the questions"
      ]
    },
    {
      "cell_type": "code",
      "execution_count": null,
      "id": "aboriginal-jurisdiction",
      "metadata": {
        "id": "aboriginal-jurisdiction"
      },
      "outputs": [],
      "source": [
        "import numpy as np\n",
        "import pandas as pd\n",
        "# This function helps generate a synthesized dataset based on a given gamma value\n",
        "def generate_dataset(gamma, std=1, num_samples=100, with_intercept=True):\n",
        "    X = np.random.random_sample(num_samples)\n",
        "    e = np.random.randn(num_samples) * std\n",
        "    intercept = -int(with_intercept) * 2\n",
        "    Y = gamma * X + intercept + e\n",
        "    #X=X.reshape(-1, 1)\n",
        "    #Y=Y.reshape(-1, 1)\n",
        "    data=pd.DataFrame({'X':X, 'Y':Y})\n",
        "    return data"
      ]
    },
    {
      "cell_type": "code",
      "execution_count": null,
      "id": "hollow-arthur",
      "metadata": {
        "id": "hollow-arthur",
        "outputId": "6bded410-2f8e-47b5-d667-fa56586dd2a6",
        "colab": {
          "base_uri": "https://localhost:8080/",
          "height": 424
        }
      },
      "outputs": [
        {
          "output_type": "execute_result",
          "data": {
            "text/plain": [
              "           X         Y\n",
              "0   0.315045  2.609965\n",
              "1   0.957181  6.272757\n",
              "2   0.766703  4.672872\n",
              "3   0.128303 -0.597651\n",
              "4   0.666634  4.045950\n",
              "..       ...       ...\n",
              "95  0.486346  2.534139\n",
              "96  0.336887  1.442983\n",
              "97  0.899678  6.800027\n",
              "98  0.043239 -1.705628\n",
              "99  0.901174  6.734235\n",
              "\n",
              "[100 rows x 2 columns]"
            ],
            "text/html": [
              "\n",
              "  <div id=\"df-2dbed373-8319-471c-afed-5b30d2864b05\" class=\"colab-df-container\">\n",
              "    <div>\n",
              "<style scoped>\n",
              "    .dataframe tbody tr th:only-of-type {\n",
              "        vertical-align: middle;\n",
              "    }\n",
              "\n",
              "    .dataframe tbody tr th {\n",
              "        vertical-align: top;\n",
              "    }\n",
              "\n",
              "    .dataframe thead th {\n",
              "        text-align: right;\n",
              "    }\n",
              "</style>\n",
              "<table border=\"1\" class=\"dataframe\">\n",
              "  <thead>\n",
              "    <tr style=\"text-align: right;\">\n",
              "      <th></th>\n",
              "      <th>X</th>\n",
              "      <th>Y</th>\n",
              "    </tr>\n",
              "  </thead>\n",
              "  <tbody>\n",
              "    <tr>\n",
              "      <th>0</th>\n",
              "      <td>0.315045</td>\n",
              "      <td>2.609965</td>\n",
              "    </tr>\n",
              "    <tr>\n",
              "      <th>1</th>\n",
              "      <td>0.957181</td>\n",
              "      <td>6.272757</td>\n",
              "    </tr>\n",
              "    <tr>\n",
              "      <th>2</th>\n",
              "      <td>0.766703</td>\n",
              "      <td>4.672872</td>\n",
              "    </tr>\n",
              "    <tr>\n",
              "      <th>3</th>\n",
              "      <td>0.128303</td>\n",
              "      <td>-0.597651</td>\n",
              "    </tr>\n",
              "    <tr>\n",
              "      <th>4</th>\n",
              "      <td>0.666634</td>\n",
              "      <td>4.045950</td>\n",
              "    </tr>\n",
              "    <tr>\n",
              "      <th>...</th>\n",
              "      <td>...</td>\n",
              "      <td>...</td>\n",
              "    </tr>\n",
              "    <tr>\n",
              "      <th>95</th>\n",
              "      <td>0.486346</td>\n",
              "      <td>2.534139</td>\n",
              "    </tr>\n",
              "    <tr>\n",
              "      <th>96</th>\n",
              "      <td>0.336887</td>\n",
              "      <td>1.442983</td>\n",
              "    </tr>\n",
              "    <tr>\n",
              "      <th>97</th>\n",
              "      <td>0.899678</td>\n",
              "      <td>6.800027</td>\n",
              "    </tr>\n",
              "    <tr>\n",
              "      <th>98</th>\n",
              "      <td>0.043239</td>\n",
              "      <td>-1.705628</td>\n",
              "    </tr>\n",
              "    <tr>\n",
              "      <th>99</th>\n",
              "      <td>0.901174</td>\n",
              "      <td>6.734235</td>\n",
              "    </tr>\n",
              "  </tbody>\n",
              "</table>\n",
              "<p>100 rows × 2 columns</p>\n",
              "</div>\n",
              "    <div class=\"colab-df-buttons\">\n",
              "\n",
              "  <div class=\"colab-df-container\">\n",
              "    <button class=\"colab-df-convert\" onclick=\"convertToInteractive('df-2dbed373-8319-471c-afed-5b30d2864b05')\"\n",
              "            title=\"Convert this dataframe to an interactive table.\"\n",
              "            style=\"display:none;\">\n",
              "\n",
              "  <svg xmlns=\"http://www.w3.org/2000/svg\" height=\"24px\" viewBox=\"0 -960 960 960\">\n",
              "    <path d=\"M120-120v-720h720v720H120Zm60-500h600v-160H180v160Zm220 220h160v-160H400v160Zm0 220h160v-160H400v160ZM180-400h160v-160H180v160Zm440 0h160v-160H620v160ZM180-180h160v-160H180v160Zm440 0h160v-160H620v160Z\"/>\n",
              "  </svg>\n",
              "    </button>\n",
              "\n",
              "  <style>\n",
              "    .colab-df-container {\n",
              "      display:flex;\n",
              "      gap: 12px;\n",
              "    }\n",
              "\n",
              "    .colab-df-convert {\n",
              "      background-color: #E8F0FE;\n",
              "      border: none;\n",
              "      border-radius: 50%;\n",
              "      cursor: pointer;\n",
              "      display: none;\n",
              "      fill: #1967D2;\n",
              "      height: 32px;\n",
              "      padding: 0 0 0 0;\n",
              "      width: 32px;\n",
              "    }\n",
              "\n",
              "    .colab-df-convert:hover {\n",
              "      background-color: #E2EBFA;\n",
              "      box-shadow: 0px 1px 2px rgba(60, 64, 67, 0.3), 0px 1px 3px 1px rgba(60, 64, 67, 0.15);\n",
              "      fill: #174EA6;\n",
              "    }\n",
              "\n",
              "    .colab-df-buttons div {\n",
              "      margin-bottom: 4px;\n",
              "    }\n",
              "\n",
              "    [theme=dark] .colab-df-convert {\n",
              "      background-color: #3B4455;\n",
              "      fill: #D2E3FC;\n",
              "    }\n",
              "\n",
              "    [theme=dark] .colab-df-convert:hover {\n",
              "      background-color: #434B5C;\n",
              "      box-shadow: 0px 1px 3px 1px rgba(0, 0, 0, 0.15);\n",
              "      filter: drop-shadow(0px 1px 2px rgba(0, 0, 0, 0.3));\n",
              "      fill: #FFFFFF;\n",
              "    }\n",
              "  </style>\n",
              "\n",
              "    <script>\n",
              "      const buttonEl =\n",
              "        document.querySelector('#df-2dbed373-8319-471c-afed-5b30d2864b05 button.colab-df-convert');\n",
              "      buttonEl.style.display =\n",
              "        google.colab.kernel.accessAllowed ? 'block' : 'none';\n",
              "\n",
              "      async function convertToInteractive(key) {\n",
              "        const element = document.querySelector('#df-2dbed373-8319-471c-afed-5b30d2864b05');\n",
              "        const dataTable =\n",
              "          await google.colab.kernel.invokeFunction('convertToInteractive',\n",
              "                                                    [key], {});\n",
              "        if (!dataTable) return;\n",
              "\n",
              "        const docLinkHtml = 'Like what you see? Visit the ' +\n",
              "          '<a target=\"_blank\" href=https://colab.research.google.com/notebooks/data_table.ipynb>data table notebook</a>'\n",
              "          + ' to learn more about interactive tables.';\n",
              "        element.innerHTML = '';\n",
              "        dataTable['output_type'] = 'display_data';\n",
              "        await google.colab.output.renderOutput(dataTable, element);\n",
              "        const docLink = document.createElement('div');\n",
              "        docLink.innerHTML = docLinkHtml;\n",
              "        element.appendChild(docLink);\n",
              "      }\n",
              "    </script>\n",
              "  </div>\n",
              "\n",
              "\n",
              "<div id=\"df-ace3b286-f920-4cc0-80b0-0e6e7710122e\">\n",
              "  <button class=\"colab-df-quickchart\" onclick=\"quickchart('df-ace3b286-f920-4cc0-80b0-0e6e7710122e')\"\n",
              "            title=\"Suggest charts\"\n",
              "            style=\"display:none;\">\n",
              "\n",
              "<svg xmlns=\"http://www.w3.org/2000/svg\" height=\"24px\"viewBox=\"0 0 24 24\"\n",
              "     width=\"24px\">\n",
              "    <g>\n",
              "        <path d=\"M19 3H5c-1.1 0-2 .9-2 2v14c0 1.1.9 2 2 2h14c1.1 0 2-.9 2-2V5c0-1.1-.9-2-2-2zM9 17H7v-7h2v7zm4 0h-2V7h2v10zm4 0h-2v-4h2v4z\"/>\n",
              "    </g>\n",
              "</svg>\n",
              "  </button>\n",
              "\n",
              "<style>\n",
              "  .colab-df-quickchart {\n",
              "      --bg-color: #E8F0FE;\n",
              "      --fill-color: #1967D2;\n",
              "      --hover-bg-color: #E2EBFA;\n",
              "      --hover-fill-color: #174EA6;\n",
              "      --disabled-fill-color: #AAA;\n",
              "      --disabled-bg-color: #DDD;\n",
              "  }\n",
              "\n",
              "  [theme=dark] .colab-df-quickchart {\n",
              "      --bg-color: #3B4455;\n",
              "      --fill-color: #D2E3FC;\n",
              "      --hover-bg-color: #434B5C;\n",
              "      --hover-fill-color: #FFFFFF;\n",
              "      --disabled-bg-color: #3B4455;\n",
              "      --disabled-fill-color: #666;\n",
              "  }\n",
              "\n",
              "  .colab-df-quickchart {\n",
              "    background-color: var(--bg-color);\n",
              "    border: none;\n",
              "    border-radius: 50%;\n",
              "    cursor: pointer;\n",
              "    display: none;\n",
              "    fill: var(--fill-color);\n",
              "    height: 32px;\n",
              "    padding: 0;\n",
              "    width: 32px;\n",
              "  }\n",
              "\n",
              "  .colab-df-quickchart:hover {\n",
              "    background-color: var(--hover-bg-color);\n",
              "    box-shadow: 0 1px 2px rgba(60, 64, 67, 0.3), 0 1px 3px 1px rgba(60, 64, 67, 0.15);\n",
              "    fill: var(--button-hover-fill-color);\n",
              "  }\n",
              "\n",
              "  .colab-df-quickchart-complete:disabled,\n",
              "  .colab-df-quickchart-complete:disabled:hover {\n",
              "    background-color: var(--disabled-bg-color);\n",
              "    fill: var(--disabled-fill-color);\n",
              "    box-shadow: none;\n",
              "  }\n",
              "\n",
              "  .colab-df-spinner {\n",
              "    border: 2px solid var(--fill-color);\n",
              "    border-color: transparent;\n",
              "    border-bottom-color: var(--fill-color);\n",
              "    animation:\n",
              "      spin 1s steps(1) infinite;\n",
              "  }\n",
              "\n",
              "  @keyframes spin {\n",
              "    0% {\n",
              "      border-color: transparent;\n",
              "      border-bottom-color: var(--fill-color);\n",
              "      border-left-color: var(--fill-color);\n",
              "    }\n",
              "    20% {\n",
              "      border-color: transparent;\n",
              "      border-left-color: var(--fill-color);\n",
              "      border-top-color: var(--fill-color);\n",
              "    }\n",
              "    30% {\n",
              "      border-color: transparent;\n",
              "      border-left-color: var(--fill-color);\n",
              "      border-top-color: var(--fill-color);\n",
              "      border-right-color: var(--fill-color);\n",
              "    }\n",
              "    40% {\n",
              "      border-color: transparent;\n",
              "      border-right-color: var(--fill-color);\n",
              "      border-top-color: var(--fill-color);\n",
              "    }\n",
              "    60% {\n",
              "      border-color: transparent;\n",
              "      border-right-color: var(--fill-color);\n",
              "    }\n",
              "    80% {\n",
              "      border-color: transparent;\n",
              "      border-right-color: var(--fill-color);\n",
              "      border-bottom-color: var(--fill-color);\n",
              "    }\n",
              "    90% {\n",
              "      border-color: transparent;\n",
              "      border-bottom-color: var(--fill-color);\n",
              "    }\n",
              "  }\n",
              "</style>\n",
              "\n",
              "  <script>\n",
              "    async function quickchart(key) {\n",
              "      const quickchartButtonEl =\n",
              "        document.querySelector('#' + key + ' button');\n",
              "      quickchartButtonEl.disabled = true;  // To prevent multiple clicks.\n",
              "      quickchartButtonEl.classList.add('colab-df-spinner');\n",
              "      try {\n",
              "        const charts = await google.colab.kernel.invokeFunction(\n",
              "            'suggestCharts', [key], {});\n",
              "      } catch (error) {\n",
              "        console.error('Error during call to suggestCharts:', error);\n",
              "      }\n",
              "      quickchartButtonEl.classList.remove('colab-df-spinner');\n",
              "      quickchartButtonEl.classList.add('colab-df-quickchart-complete');\n",
              "    }\n",
              "    (() => {\n",
              "      let quickchartButtonEl =\n",
              "        document.querySelector('#df-ace3b286-f920-4cc0-80b0-0e6e7710122e button');\n",
              "      quickchartButtonEl.style.display =\n",
              "        google.colab.kernel.accessAllowed ? 'block' : 'none';\n",
              "    })();\n",
              "  </script>\n",
              "</div>\n",
              "    </div>\n",
              "  </div>\n"
            ]
          },
          "metadata": {},
          "execution_count": 15
        }
      ],
      "source": [
        "# Example:\n",
        "data = generate_dataset(gamma=10)\n",
        "data"
      ]
    },
    {
      "cell_type": "markdown",
      "id": "decent-fruit",
      "metadata": {
        "id": "decent-fruit"
      },
      "source": [
        "### 2.a.\n",
        "\n",
        "Using the following functions (gradient descent, mse_loss, and mse_loss_derivative), find the best value of gamma that the gradient descent algorithm can find in 100 iterations for initial gamma=0.1 and $\\alpha=0.01$."
      ]
    },
    {
      "cell_type": "code",
      "execution_count": null,
      "id": "ruled-thousand",
      "metadata": {
        "id": "ruled-thousand"
      },
      "outputs": [],
      "source": [
        "x=data['X']\n",
        "y_obs=data['Y']\n",
        "\n",
        "def gradient_descent(df, initial_guess, alpha, n):\n",
        "    guesses = [initial_guess]\n",
        "    guess = initial_guess\n",
        "    while len(guesses) < n:\n",
        "        guess = guess - alpha * df(guess)\n",
        "        guesses.append(guess)\n",
        "    return np.array(guesses)\n",
        "\n",
        "def mse_loss(gamma):\n",
        "    y_hat = gamma * x\n",
        "    return np.mean((y_hat - y_obs) ** 2)\n",
        "\n",
        "def mse_loss_derivative(gamma):\n",
        "    y_hat = gamma * x\n",
        "    return np.mean(2 * (y_hat - y_obs) * x)"
      ]
    },
    {
      "cell_type": "code",
      "execution_count": null,
      "id": "offshore-sacramento",
      "metadata": {
        "id": "offshore-sacramento",
        "colab": {
          "base_uri": "https://localhost:8080/"
        },
        "outputId": "c870ed68-24d1-4780-fcdd-d97951308612"
      },
      "outputs": [
        {
          "output_type": "stream",
          "name": "stdout",
          "text": [
            "The best value of gamma of gradient descent is: 3.4898217716891216\n"
          ]
        }
      ],
      "source": [
        "initial_gamma = 0.1\n",
        "alpha = 0.01\n",
        "iterations = 100\n",
        "\n",
        "# gradient descent\n",
        "gamma_values = gradient_descent(mse_loss_derivative, 0.1, 0.01, 100)\n",
        "\n",
        "# best value of gamma that the gradient descent\n",
        "final_gamma = gamma_values[-1]\n",
        "print(f\"The best value of gamma of gradient descent is: {final_gamma}\")"
      ]
    },
    {
      "cell_type": "markdown",
      "id": "extra-discussion",
      "metadata": {
        "id": "extra-discussion"
      },
      "source": [
        "### 2.b.\n",
        "Create a plot below showing the fitted simple linear regression model on the observed data for when you pick the gamma selected by the above algorithm. Your plot should include at least the following:\n",
        "- A scatter plot of all the observed data\n",
        "- A line plot for the simple linear regression model without an intercept\n",
        "- An appropriate title, a legend labeling which line contains an intercept, and labels for both axes"
      ]
    },
    {
      "cell_type": "code",
      "execution_count": null,
      "id": "lucky-reservoir",
      "metadata": {
        "id": "lucky-reservoir",
        "colab": {
          "base_uri": "https://localhost:8080/",
          "height": 472
        },
        "outputId": "5006cdcd-eb95-48b9-ed6e-6fcb54609811"
      },
      "outputs": [
        {
          "output_type": "display_data",
          "data": {
            "text/plain": [
              "<Figure size 640x480 with 1 Axes>"
            ],
            "image/png": "[encoded data removed]"
          },
          "metadata": {}
        }
      ],
      "source": [
        "import matplotlib.pyplot as plt\n",
        "\n",
        "# scatter plot of all the observed data\n",
        "plt.scatter(x, y_obs, label='Observed Data')\n",
        "\n",
        "# Fitted simple linear regression model\n",
        "gamma_for_plot = final_gamma\n",
        "y_hat = gamma_for_plot * x\n",
        "\n",
        "plt.plot(x, y_hat,'r')\n",
        "\n",
        "# Add labels and title\n",
        "plt.xlabel('X')\n",
        "plt.ylabel('Y')\n",
        "plt.title('Simple Linear Regression')\n",
        "plt.legend(['$y$','$\\hat{y}$' ])\n",
        "plt.show()\n"
      ]
    },
    {
      "cell_type": "markdown",
      "id": "supported-young",
      "metadata": {
        "id": "supported-young"
      },
      "source": [
        "### 2.c.\n",
        "\n",
        "Use a different value of $\\alpha=0.1$ and repeat 2.a and 2.b.\n"
      ]
    },
    {
      "cell_type": "code",
      "execution_count": null,
      "id": "emerging-board",
      "metadata": {
        "id": "emerging-board",
        "colab": {
          "base_uri": "https://localhost:8080/",
          "height": 489
        },
        "outputId": "83a86291-ef2f-4eb8-c762-705470a7c2ef"
      },
      "outputs": [
        {
          "output_type": "stream",
          "name": "stdout",
          "text": [
            "The best value of gamma of gradient descent with 0.1 is: 7.132278734467747\n"
          ]
        },
        {
          "output_type": "display_data",
          "data": {
            "text/plain": [
              "<Figure size 640x480 with 1 Axes>"
            ],
            "image/png": "[encoded data removed]"
          },
          "metadata": {}
        }
      ],
      "source": [
        "# Set the initial values with a different alpha\n",
        "alpha_new = 0.1\n",
        "\n",
        "# Run gradient descent with the new alpha\n",
        "gamma_values_new = gradient_descent(mse_loss_derivative, 0.1, 0.1, 100)\n",
        "\n",
        "# Print the final gamma value\n",
        "final_gamma_new = gamma_values_new[-1]\n",
        "print(f\"The best value of gamma of gradient descent with is: {final_gamma_new}\")\n",
        "\n",
        "# Scatter plot of observed data\n",
        "plt.scatter(x, y_obs, label='Observed Data')\n",
        "\n",
        "# Fitted simple linear regression model with the new gamma\n",
        "gamma_for_plot_new = final_gamma_new\n",
        "\n",
        "# Line plot for the simple linear regression model without an intercept with the new gamma\n",
        "y_hat_new = gamma_for_plot_new * x\n",
        "\n",
        "plt.plot(x, y_hat_new,'r')\n",
        "\n",
        "# Add labels and title\n",
        "plt.xlabel('X')\n",
        "plt.ylabel('Y')\n",
        "plt.title('Fitted Simple Linear Regression Model with α = 0.1')\n",
        "plt.legend(['$y$','$\\hat{y}$' ])\n",
        "plt.show()\n"
      ]
    },
    {
      "cell_type": "markdown",
      "id": "understood-haven",
      "metadata": {
        "id": "understood-haven"
      },
      "source": [
        "### 2.d.\n",
        "Which value of $\\alpha$ resulted in a better model? Why?\n"
      ]
    },
    {
      "cell_type": "markdown",
      "id": "compliant-moscow",
      "metadata": {
        "id": "compliant-moscow"
      },
      "source": [
        "In this case, the final gamma value (3.49) for α=0.01 is clearly smaller than that of α=0.1 (7.13). Generally speaking, a better-fitting model is indicated by a lower objective function value, in this case, the MSE loss. Thus, based on the provided output, it appears that α=0.01 produced a better model."
      ]
    },
    {
      "cell_type": "markdown",
      "id": "burning-campaign",
      "metadata": {
        "id": "burning-campaign"
      },
      "source": [
        "## 2.e.\n",
        "\n",
        "What other inputs of the gradient_descent function can we change to imporove the model?"
      ]
    },
    {
      "cell_type": "markdown",
      "id": "killing-example",
      "metadata": {
        "id": "killing-example"
      },
      "source": [
        "initial_guess:  It could impact convergence, especially if the loss landscape contains multiple local minima.\n",
        "\n",
        "Number of iterations (n): Increasing the number of iterations may enable the algorithm to converge to a better solution, but it may also lead to overfitting.\n",
        "\n",
        "Alpha: instead of using a fixed number of iterations, a convergence criterion based on the variation in the loss or parameters between iterations can be used."
      ]
    },
    {
      "cell_type": "markdown",
      "id": "lightweight-darwin",
      "metadata": {
        "id": "lightweight-darwin"
      },
      "source": [
        "## Question 3.\n",
        "\n",
        "### 3.a.\n",
        "Write a calculate_y_hat(X, Y, with_intercept) function that computes the value of y_hat for your model based on whether or not an intercept term is specified within the model.\n",
        "\n",
        "Hint: Use sklearn.linear_model.LinearRegression library"
      ]
    },
    {
      "cell_type": "code",
      "execution_count": null,
      "id": "infrared-reynolds",
      "metadata": {
        "id": "infrared-reynolds"
      },
      "outputs": [],
      "source": [
        "from sklearn.linear_model import LinearRegression\n",
        "import numpy as np\n",
        "\n",
        "def calculate_y_hat(X, Y, with_intercept=True):\n",
        "\n",
        "\n",
        "    X = X.values.reshape(-1, 1)\n",
        "    # Create a linear regression model\n",
        "    model = LinearRegression(fit_intercept=with_intercept)\n",
        "\n",
        "    # Fit the model to the data\n",
        "    model.fit(X,Y)\n",
        "    model.coef_\n",
        "    model.intercept_\n",
        "\n",
        "    # Predict y_hat based on the model\n",
        "    y_hat = model.intercept_ + model.coef_ * X\n",
        "\n",
        "    return y_hat\n",
        "\n",
        "\n",
        "X = data['X']\n",
        "Y = data['Y']\n",
        "\n",
        "# Calculate y_hat with intercept\n",
        "y_hat_with_intercept = calculate_y_hat(X, Y, with_intercept=True)\n",
        "\n",
        "# Calculate y_hat without intercept\n",
        "y_hat_without_intercept = calculate_y_hat(X, Y, with_intercept=False)\n"
      ]
    },
    {
      "cell_type": "markdown",
      "id": "undefined-acting",
      "metadata": {
        "id": "undefined-acting"
      },
      "source": [
        "### 3.b.\n",
        "\n",
        "Create a plot below comparing our fitted simple linear regression model on the observed data for when it includes an intercept v.s. when it does not include an intercept. Your plot should include at least the following:\n",
        "- A scatter plot of all the observed data\n",
        "- A line plot for the simple linear regression model without an intercept\n",
        "- A line plot for the simple linear regression model with an intercept\n",
        "- An appropriate title, a legend labeling which line contains an intercept, and labels for both axes\n",
        "\n",
        "You should use different colors for the two line plots"
      ]
    },
    {
      "cell_type": "code",
      "execution_count": null,
      "id": "integrated-fellow",
      "metadata": {
        "id": "integrated-fellow",
        "colab": {
          "base_uri": "https://localhost:8080/",
          "height": 472
        },
        "outputId": "0270cf19-447e-4e81-c019-e5da5e3ef37e"
      },
      "outputs": [
        {
          "output_type": "display_data",
          "data": {
            "text/plain": [
              "<Figure size 640x480 with 1 Axes>"
            ],
            "image/png": "[encoded data removed]"
          },
          "metadata": {}
        }
      ],
      "source": [
        "plt.scatter(X, Y, label='Data')\n",
        "\n",
        "# Line plot for the simple linear regression model with intercept\n",
        "plt.plot(X, y_hat_with_intercept, label='With Intercept', color='blue')\n",
        "\n",
        "# Line plot for the simple linear regression model without intercept\n",
        "plt.plot(X, y_hat_without_intercept, label='Without Intercept', color='red')\n",
        "\n",
        "# Add labels and title\n",
        "plt.xlabel('X')\n",
        "plt.ylabel('Y')\n",
        "plt.title('Comparison of Simple Linear Regression Models')\n",
        "plt.legend()\n",
        "plt.show()\n"
      ]
    }
  ],
  "metadata": {
    "kernelspec": {
      "display_name": "Python 3",
      "language": "python",
      "name": "python3"
    },
    "language_info": {
      "codemirror_mode": {
        "name": "ipython",
        "version": 3
      },
      "file_extension": ".py",
      "mimetype": "text/x-python",
      "name": "python",
      "nbconvert_exporter": "python",
      "pygments_lexer": "ipython3",
      "version": "3.9.1"
    },
    "colab": {
      "provenance": [],
      "include_colab_link": true
    }
  },
  "nbformat": 4,
  "nbformat_minor": 5
}