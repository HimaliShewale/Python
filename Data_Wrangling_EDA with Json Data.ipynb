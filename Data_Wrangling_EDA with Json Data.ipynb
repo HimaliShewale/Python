{
  "nbformat": 4,
  "nbformat_minor": 0,
  "metadata": {
    "colab": {
      "provenance": [],
      "include_colab_link": true
    },
    "kernelspec": {
      "name": "python3",
      "display_name": "Python 3"
    },
    "language_info": {
      "name": "python"
    }
  },
  "cells": [
    {
      "cell_type": "markdown",
      "metadata": {
        "id": "view-in-github",
        "colab_type": "text"
      },
      "source": [
        "<a href=\"https://colab.research.google.com/github/HimaliShewale/Python/blob/main/Data_Wrangling_EDA%20with%20Json%20Data.ipynb\" target=\"_parent\"><img src=\"https://colab.research.google.com/assets/colab-badge.svg\" alt=\"Open In Colab\"/></a>"
      ]
    },
    {
      "cell_type": "code",
      "execution_count": null,
      "metadata": {
        "id": "2IknZ55G5aYe"
      },
      "outputs": [],
      "source": [
        "import pandas as pd\n",
        "import numpy as np\n",
        "\n",
        "import os"
      ]
    },
    {
      "cell_type": "markdown",
      "source": [
        "### TSV File"
      ],
      "metadata": {
        "id": "tuCBbtzx-p1r"
      }
    },
    {
      "cell_type": "code",
      "source": [
        "# Data file\n",
        "restaurants_tsv_file = \"restaurants.tsv\"\n",
        "\n",
        "# How big is the file\n",
        "os.path.getsize(restaurants_tsv_file)/1e6"
      ],
      "metadata": {
        "id": "-gWUB0NE7e9y",
        "colab": {
          "base_uri": "https://localhost:8080/"
        },
        "outputId": "40dd67ca-dbdd-44ba-a8ef-aa5adee252ad"
      },
      "execution_count": null,
      "outputs": [
        {
          "output_type": "execute_result",
          "data": {
            "text/plain": [
              "12.773724"
            ]
          },
          "metadata": {},
          "execution_count": 2
        }
      ]
    },
    {
      "cell_type": "code",
      "source": [
        "# How many lines does it have?\n",
        "with open(restaurants_tsv_file, \"r\") as f:\n",
        "     print(restaurants_tsv_file, \"is\", sum(1 for l in f), \"lines.\")"
      ],
      "metadata": {
        "id": "PvTbyac5-Uyx",
        "colab": {
          "base_uri": "https://localhost:8080/"
        },
        "outputId": "77773c37-c3e6-4531-adfb-45f2346f9005"
      },
      "execution_count": null,
      "outputs": [
        {
          "output_type": "stream",
          "name": "stdout",
          "text": [
            "restaurants.tsv is 53974 lines.\n"
          ]
        }
      ]
    },
    {
      "cell_type": "code",
      "source": [
        "# Print data content\n",
        "with open(restaurants_tsv_file, \"r\") as f:\n",
        "    for i in range(10):\n",
        "        print(f.readline())"
      ],
      "metadata": {
        "id": "1klfpGLcOWQV",
        "colab": {
          "base_uri": "https://localhost:8080/"
        },
        "outputId": "8f3e1f57-19ae-4e04-8757-8a7620d16f90"
      },
      "execution_count": null,
      "outputs": [
        {
          "output_type": "stream",
          "name": "stdout",
          "text": [
            "\tbusiness_id\tbusiness_name\tbusiness_address\tbusiness_city\tbusiness_state\tbusiness_postal_code\tbusiness_latitude\tbusiness_longitude\tbusiness_location\tbusiness_phone_number\tinspection_id\tinspection_date\tinspection_score\tinspection_type\tviolation_id\tviolation_description\trisk_category\tNeighborhoods\tSF Find Neighborhoods\tCurrent Police Districts\tCurrent Supervisor Districts\tAnalysis Neighborhoods\n",
            "\n",
            "0\t835\tKam Po Kitchen\t801 Broadway St\tSan Francisco\tCA\t94133\t37.797223\t-122.410513\tPOINT (-122.410513 37.797223)\t\t835_20180917\t09/17/2018 12:00:00 AM\t88.0\tRoutine - Unscheduled\t835_20180917_103139\tImproper food storage\tLow Risk\t107.0\t107.0\t6.0\t3.0\t6.0\n",
            "\n",
            "1\t905\tWorking Girls' Cafe'\t0259 Kearny St\tSan Francisco\tCA\t94108\t37.790477\t-122.404033\tPOINT (-122.404033 37.790477)\t\t905_20190415\t04/15/2019 12:00:00 AM\t87.0\tRoutine - Unscheduled\t905_20190415_103114\tHigh risk vermin infestation\tHigh Risk\t19.0\t19.0\t6.0\t3.0\t8.0\n",
            "\n",
            "2\t1203\tTAWAN'S THAI FOOD\t4403 GEARY Blvd\tSan Francisco\tCA\t94118\t37.780834\t-122.46659\tPOINT (-122.46659 37.780834)\t14155755175.0\t1203_20170803\t08/03/2017 12:00:00 AM\t77.0\tRoutine - Unscheduled\t1203_20170803_103120\tModerate risk food holding temperature\tModerate Risk\t5.0\t5.0\t8.0\t4.0\t11.0\n",
            "\n",
            "3\t1345\tCordon Bleu\t1574 California St\tSan Francisco\tCA\t94109\t37.790683\t-122.420264\tPOINT (-122.420264 37.790683)\t\t1345_20170928\t09/28/2017 12:00:00 AM\t81.0\tRoutine - Unscheduled\t1345_20170928_103105\tImproper cooling methods\tHigh Risk\t105.0\t105.0\t4.0\t3.0\t21.0\n",
            "\n",
            "4\t1352\tLA TORTILLA\t495 Castro St B\tSan Francisco\tCA\t94114\t37.760954\t-122.434935\tPOINT (-122.434935 37.760954)\t14155863990.0\t1352_20180620\t06/20/2018 12:00:00 AM\t74.0\tRoutine - Unscheduled\t1352_20180620_103177\tNon service animal\tLow Risk\t38.0\t38.0\t3.0\t5.0\t5.0\n",
            "\n",
            "5\t1652\tSTARBUCKS\t201 03rd St\tSan Francisco\tCA\t94105\t37.785037\t-122.400432\tPOINT (-122.400432 37.785037)\t\t1652_20190611\t06/11/2019 12:00:00 AM\t96.0\tRoutine - Unscheduled\t1652_20190611_103161\tLow risk vermin infestation\tLow Risk\t32.0\t32.0\t1.0\t10.0\t8.0\n",
            "\n",
            "6\t1922\tAll stars Donuts\t901 Clement St\tSan Francisco\tCA\t94118\t37.782694\t-122.468969\tPOINT (-122.468969 37.782694)\t\t1922_20161128\t11/28/2016 12:00:00 AM\t\tComplaint\t1922_20161128_103139\tImproper food storage\tLow Risk\t5.0\t5.0\t8.0\t4.0\t11.0\n",
            "\n",
            "7\t3019\tTad's\t120 Powell St\tSan Francisco\tCA\t94102\t37.785928\t-122.407887\tPOINT (-122.407887 37.785928)\t\t3019_20190702\t07/02/2019 12:00:00 AM\t88.0\tRoutine - Unscheduled\t3019_20190702_103139\tImproper food storage\tLow Risk\t19.0\t19.0\t6.0\t3.0\t8.0\n",
            "\n",
            "8\t3286\tSuper Burrito\t1200 Polk St\tSan Francisco\tCA\t94109\t37.787998\t-122.420117\tPOINT (-122.420117 37.787998)\t\t3286_20190214\t02/14/2019 12:00:00 AM\t81.0\tRoutine - Unscheduled\t3286_20190214_103105\tImproper cooling methods\tHigh Risk\t50.0\t50.0\t4.0\t3.0\t21.0\n",
            "\n"
          ]
        }
      ]
    },
    {
      "cell_type": "code",
      "source": [
        "# Read the data into Pandas dataframe\n",
        "restaurants_tsv = pd.read_csv(\"restaurants.tsv\", delimiter='\\t')\n",
        "restaurants_tsv.head()"
      ],
      "metadata": {
        "id": "QjsUMRvp5gga",
        "colab": {
          "base_uri": "https://localhost:8080/",
          "height": 377
        },
        "outputId": "5c427af4-524f-4548-a758-3f0d15623422"
      },
      "execution_count": null,
      "outputs": [
        {
          "output_type": "execute_result",
          "data": {
            "text/plain": [
              "   Unnamed: 0  business_id         business_name    business_address  \\\n",
              "0           0          835        Kam Po Kitchen     801 Broadway St   \n",
              "1           1          905  Working Girls' Cafe'      0259 Kearny St   \n",
              "2           2         1203     TAWAN'S THAI FOOD     4403 GEARY Blvd   \n",
              "3           3         1345           Cordon Bleu  1574 California St   \n",
              "4           4         1352           LA TORTILLA     495 Castro St B   \n",
              "\n",
              "   business_city business_state business_postal_code  business_latitude  \\\n",
              "0  San Francisco             CA                94133          37.797223   \n",
              "1  San Francisco             CA                94108          37.790477   \n",
              "2  San Francisco             CA                94118          37.780834   \n",
              "3  San Francisco             CA                94109          37.790683   \n",
              "4  San Francisco             CA                94114          37.760954   \n",
              "\n",
              "   business_longitude              business_location  ...  inspection_score  \\\n",
              "0         -122.410513  POINT (-122.410513 37.797223)  ...              88.0   \n",
              "1         -122.404033  POINT (-122.404033 37.790477)  ...              87.0   \n",
              "2         -122.466590   POINT (-122.46659 37.780834)  ...              77.0   \n",
              "3         -122.420264  POINT (-122.420264 37.790683)  ...              81.0   \n",
              "4         -122.434935  POINT (-122.434935 37.760954)  ...              74.0   \n",
              "\n",
              "         inspection_type          violation_id  \\\n",
              "0  Routine - Unscheduled   835_20180917_103139   \n",
              "1  Routine - Unscheduled   905_20190415_103114   \n",
              "2  Routine - Unscheduled  1203_20170803_103120   \n",
              "3  Routine - Unscheduled  1345_20170928_103105   \n",
              "4  Routine - Unscheduled  1352_20180620_103177   \n",
              "\n",
              "                    violation_description  risk_category Neighborhoods  \\\n",
              "0                   Improper food storage       Low Risk         107.0   \n",
              "1            High risk vermin infestation      High Risk          19.0   \n",
              "2  Moderate risk food holding temperature  Moderate Risk           5.0   \n",
              "3                Improper cooling methods      High Risk         105.0   \n",
              "4                      Non service animal       Low Risk          38.0   \n",
              "\n",
              "  SF Find Neighborhoods Current Police Districts  \\\n",
              "0                 107.0                      6.0   \n",
              "1                  19.0                      6.0   \n",
              "2                   5.0                      8.0   \n",
              "3                 105.0                      4.0   \n",
              "4                  38.0                      3.0   \n",
              "\n",
              "   Current Supervisor Districts  Analysis Neighborhoods  \n",
              "0                           3.0                     6.0  \n",
              "1                           3.0                     8.0  \n",
              "2                           4.0                    11.0  \n",
              "3                           3.0                    21.0  \n",
              "4                           5.0                     5.0  \n",
              "\n",
              "[5 rows x 23 columns]"
            ],
            "text/html": [
              "\n",
              "  <div id=\"df-4cbb04b7-6626-4755-a7ab-ba49115165e4\" class=\"colab-df-container\">\n",
              "    <div>\n",
              "<style scoped>\n",
              "    .dataframe tbody tr th:only-of-type {\n",
              "        vertical-align: middle;\n",
              "    }\n",
              "\n",
              "    .dataframe tbody tr th {\n",
              "        vertical-align: top;\n",
              "    }\n",
              "\n",
              "    .dataframe thead th {\n",
              "        text-align: right;\n",
              "    }\n",
              "</style>\n",
              "<table border=\"1\" class=\"dataframe\">\n",
              "  <thead>\n",
              "    <tr style=\"text-align: right;\">\n",
              "      <th></th>\n",
              "      <th>Unnamed: 0</th>\n",
              "      <th>business_id</th>\n",
              "      <th>business_name</th>\n",
              "      <th>business_address</th>\n",
              "      <th>business_city</th>\n",
              "      <th>business_state</th>\n",
              "      <th>business_postal_code</th>\n",
              "      <th>business_latitude</th>\n",
              "      <th>business_longitude</th>\n",
              "      <th>business_location</th>\n",
              "      <th>...</th>\n",
              "      <th>inspection_score</th>\n",
              "      <th>inspection_type</th>\n",
              "      <th>violation_id</th>\n",
              "      <th>violation_description</th>\n",
              "      <th>risk_category</th>\n",
              "      <th>Neighborhoods</th>\n",
              "      <th>SF Find Neighborhoods</th>\n",
              "      <th>Current Police Districts</th>\n",
              "      <th>Current Supervisor Districts</th>\n",
              "      <th>Analysis Neighborhoods</th>\n",
              "    </tr>\n",
              "  </thead>\n",
              "  <tbody>\n",
              "    <tr>\n",
              "      <th>0</th>\n",
              "      <td>0</td>\n",
              "      <td>835</td>\n",
              "      <td>Kam Po Kitchen</td>\n",
              "      <td>801 Broadway St</td>\n",
              "      <td>San Francisco</td>\n",
              "      <td>CA</td>\n",
              "      <td>94133</td>\n",
              "      <td>37.797223</td>\n",
              "      <td>-122.410513</td>\n",
              "      <td>POINT (-122.410513 37.797223)</td>\n",
              "      <td>...</td>\n",
              "      <td>88.0</td>\n",
              "      <td>Routine - Unscheduled</td>\n",
              "      <td>835_20180917_103139</td>\n",
              "      <td>Improper food storage</td>\n",
              "      <td>Low Risk</td>\n",
              "      <td>107.0</td>\n",
              "      <td>107.0</td>\n",
              "      <td>6.0</td>\n",
              "      <td>3.0</td>\n",
              "      <td>6.0</td>\n",
              "    </tr>\n",
              "    <tr>\n",
              "      <th>1</th>\n",
              "      <td>1</td>\n",
              "      <td>905</td>\n",
              "      <td>Working Girls' Cafe'</td>\n",
              "      <td>0259 Kearny St</td>\n",
              "      <td>San Francisco</td>\n",
              "      <td>CA</td>\n",
              "      <td>94108</td>\n",
              "      <td>37.790477</td>\n",
              "      <td>-122.404033</td>\n",
              "      <td>POINT (-122.404033 37.790477)</td>\n",
              "      <td>...</td>\n",
              "      <td>87.0</td>\n",
              "      <td>Routine - Unscheduled</td>\n",
              "      <td>905_20190415_103114</td>\n",
              "      <td>High risk vermin infestation</td>\n",
              "      <td>High Risk</td>\n",
              "      <td>19.0</td>\n",
              "      <td>19.0</td>\n",
              "      <td>6.0</td>\n",
              "      <td>3.0</td>\n",
              "      <td>8.0</td>\n",
              "    </tr>\n",
              "    <tr>\n",
              "      <th>2</th>\n",
              "      <td>2</td>\n",
              "      <td>1203</td>\n",
              "      <td>TAWAN'S THAI FOOD</td>\n",
              "      <td>4403 GEARY Blvd</td>\n",
              "      <td>San Francisco</td>\n",
              "      <td>CA</td>\n",
              "      <td>94118</td>\n",
              "      <td>37.780834</td>\n",
              "      <td>-122.466590</td>\n",
              "      <td>POINT (-122.46659 37.780834)</td>\n",
              "      <td>...</td>\n",
              "      <td>77.0</td>\n",
              "      <td>Routine - Unscheduled</td>\n",
              "      <td>1203_20170803_103120</td>\n",
              "      <td>Moderate risk food holding temperature</td>\n",
              "      <td>Moderate Risk</td>\n",
              "      <td>5.0</td>\n",
              "      <td>5.0</td>\n",
              "      <td>8.0</td>\n",
              "      <td>4.0</td>\n",
              "      <td>11.0</td>\n",
              "    </tr>\n",
              "    <tr>\n",
              "      <th>3</th>\n",
              "      <td>3</td>\n",
              "      <td>1345</td>\n",
              "      <td>Cordon Bleu</td>\n",
              "      <td>1574 California St</td>\n",
              "      <td>San Francisco</td>\n",
              "      <td>CA</td>\n",
              "      <td>94109</td>\n",
              "      <td>37.790683</td>\n",
              "      <td>-122.420264</td>\n",
              "      <td>POINT (-122.420264 37.790683)</td>\n",
              "      <td>...</td>\n",
              "      <td>81.0</td>\n",
              "      <td>Routine - Unscheduled</td>\n",
              "      <td>1345_20170928_103105</td>\n",
              "      <td>Improper cooling methods</td>\n",
              "      <td>High Risk</td>\n",
              "      <td>105.0</td>\n",
              "      <td>105.0</td>\n",
              "      <td>4.0</td>\n",
              "      <td>3.0</td>\n",
              "      <td>21.0</td>\n",
              "    </tr>\n",
              "    <tr>\n",
              "      <th>4</th>\n",
              "      <td>4</td>\n",
              "      <td>1352</td>\n",
              "      <td>LA TORTILLA</td>\n",
              "      <td>495 Castro St B</td>\n",
              "      <td>San Francisco</td>\n",
              "      <td>CA</td>\n",
              "      <td>94114</td>\n",
              "      <td>37.760954</td>\n",
              "      <td>-122.434935</td>\n",
              "      <td>POINT (-122.434935 37.760954)</td>\n",
              "      <td>...</td>\n",
              "      <td>74.0</td>\n",
              "      <td>Routine - Unscheduled</td>\n",
              "      <td>1352_20180620_103177</td>\n",
              "      <td>Non service animal</td>\n",
              "      <td>Low Risk</td>\n",
              "      <td>38.0</td>\n",
              "      <td>38.0</td>\n",
              "      <td>3.0</td>\n",
              "      <td>5.0</td>\n",
              "      <td>5.0</td>\n",
              "    </tr>\n",
              "  </tbody>\n",
              "</table>\n",
              "<p>5 rows × 23 columns</p>\n",
              "</div>\n",
              "    <div class=\"colab-df-buttons\">\n",
              "\n",
              "  <div class=\"colab-df-container\">\n",
              "    <button class=\"colab-df-convert\" onclick=\"convertToInteractive('df-4cbb04b7-6626-4755-a7ab-ba49115165e4')\"\n",
              "            title=\"Convert this dataframe to an interactive table.\"\n",
              "            style=\"display:none;\">\n",
              "\n",
              "  <svg xmlns=\"http://www.w3.org/2000/svg\" height=\"24px\" viewBox=\"0 -960 960 960\">\n",
              "    <path d=\"M120-120v-720h720v720H120Zm60-500h600v-160H180v160Zm220 220h160v-160H400v160Zm0 220h160v-160H400v160ZM180-400h160v-160H180v160Zm440 0h160v-160H620v160ZM180-180h160v-160H180v160Zm440 0h160v-160H620v160Z\"/>\n",
              "  </svg>\n",
              "    </button>\n",
              "\n",
              "  <style>\n",
              "    .colab-df-container {\n",
              "      display:flex;\n",
              "      gap: 12px;\n",
              "    }\n",
              "\n",
              "    .colab-df-convert {\n",
              "      background-color: #E8F0FE;\n",
              "      border: none;\n",
              "      border-radius: 50%;\n",
              "      cursor: pointer;\n",
              "      display: none;\n",
              "      fill: #1967D2;\n",
              "      height: 32px;\n",
              "      padding: 0 0 0 0;\n",
              "      width: 32px;\n",
              "    }\n",
              "\n",
              "    .colab-df-convert:hover {\n",
              "      background-color: #E2EBFA;\n",
              "      box-shadow: 0px 1px 2px rgba(60, 64, 67, 0.3), 0px 1px 3px 1px rgba(60, 64, 67, 0.15);\n",
              "      fill: #174EA6;\n",
              "    }\n",
              "\n",
              "    .colab-df-buttons div {\n",
              "      margin-bottom: 4px;\n",
              "    }\n",
              "\n",
              "    [theme=dark] .colab-df-convert {\n",
              "      background-color: #3B4455;\n",
              "      fill: #D2E3FC;\n",
              "    }\n",
              "\n",
              "    [theme=dark] .colab-df-convert:hover {\n",
              "      background-color: #434B5C;\n",
              "      box-shadow: 0px 1px 3px 1px rgba(0, 0, 0, 0.15);\n",
              "      filter: drop-shadow(0px 1px 2px rgba(0, 0, 0, 0.3));\n",
              "      fill: #FFFFFF;\n",
              "    }\n",
              "  </style>\n",
              "\n",
              "    <script>\n",
              "      const buttonEl =\n",
              "        document.querySelector('#df-4cbb04b7-6626-4755-a7ab-ba49115165e4 button.colab-df-convert');\n",
              "      buttonEl.style.display =\n",
              "        google.colab.kernel.accessAllowed ? 'block' : 'none';\n",
              "\n",
              "      async function convertToInteractive(key) {\n",
              "        const element = document.querySelector('#df-4cbb04b7-6626-4755-a7ab-ba49115165e4');\n",
              "        const dataTable =\n",
              "          await google.colab.kernel.invokeFunction('convertToInteractive',\n",
              "                                                    [key], {});\n",
              "        if (!dataTable) return;\n",
              "\n",
              "        const docLinkHtml = 'Like what you see? Visit the ' +\n",
              "          '<a target=\"_blank\" href=https://colab.research.google.com/notebooks/data_table.ipynb>data table notebook</a>'\n",
              "          + ' to learn more about interactive tables.';\n",
              "        element.innerHTML = '';\n",
              "        dataTable['output_type'] = 'display_data';\n",
              "        await google.colab.output.renderOutput(dataTable, element);\n",
              "        const docLink = document.createElement('div');\n",
              "        docLink.innerHTML = docLinkHtml;\n",
              "        element.appendChild(docLink);\n",
              "      }\n",
              "    </script>\n",
              "  </div>\n",
              "\n",
              "\n",
              "<div id=\"df-514c4eb2-8a9b-4d97-a613-a3ba049aa4cb\">\n",
              "  <button class=\"colab-df-quickchart\" onclick=\"quickchart('df-514c4eb2-8a9b-4d97-a613-a3ba049aa4cb')\"\n",
              "            title=\"Suggest charts.\"\n",
              "            style=\"display:none;\">\n",
              "\n",
              "<svg xmlns=\"http://www.w3.org/2000/svg\" height=\"24px\"viewBox=\"0 0 24 24\"\n",
              "     width=\"24px\">\n",
              "    <g>\n",
              "        <path d=\"M19 3H5c-1.1 0-2 .9-2 2v14c0 1.1.9 2 2 2h14c1.1 0 2-.9 2-2V5c0-1.1-.9-2-2-2zM9 17H7v-7h2v7zm4 0h-2V7h2v10zm4 0h-2v-4h2v4z\"/>\n",
              "    </g>\n",
              "</svg>\n",
              "  </button>\n",
              "\n",
              "<style>\n",
              "  .colab-df-quickchart {\n",
              "      --bg-color: #E8F0FE;\n",
              "      --fill-color: #1967D2;\n",
              "      --hover-bg-color: #E2EBFA;\n",
              "      --hover-fill-color: #174EA6;\n",
              "      --disabled-fill-color: #AAA;\n",
              "      --disabled-bg-color: #DDD;\n",
              "  }\n",
              "\n",
              "  [theme=dark] .colab-df-quickchart {\n",
              "      --bg-color: #3B4455;\n",
              "      --fill-color: #D2E3FC;\n",
              "      --hover-bg-color: #434B5C;\n",
              "      --hover-fill-color: #FFFFFF;\n",
              "      --disabled-bg-color: #3B4455;\n",
              "      --disabled-fill-color: #666;\n",
              "  }\n",
              "\n",
              "  .colab-df-quickchart {\n",
              "    background-color: var(--bg-color);\n",
              "    border: none;\n",
              "    border-radius: 50%;\n",
              "    cursor: pointer;\n",
              "    display: none;\n",
              "    fill: var(--fill-color);\n",
              "    height: 32px;\n",
              "    padding: 0;\n",
              "    width: 32px;\n",
              "  }\n",
              "\n",
              "  .colab-df-quickchart:hover {\n",
              "    background-color: var(--hover-bg-color);\n",
              "    box-shadow: 0 1px 2px rgba(60, 64, 67, 0.3), 0 1px 3px 1px rgba(60, 64, 67, 0.15);\n",
              "    fill: var(--button-hover-fill-color);\n",
              "  }\n",
              "\n",
              "  .colab-df-quickchart-complete:disabled,\n",
              "  .colab-df-quickchart-complete:disabled:hover {\n",
              "    background-color: var(--disabled-bg-color);\n",
              "    fill: var(--disabled-fill-color);\n",
              "    box-shadow: none;\n",
              "  }\n",
              "\n",
              "  .colab-df-spinner {\n",
              "    border: 2px solid var(--fill-color);\n",
              "    border-color: transparent;\n",
              "    border-bottom-color: var(--fill-color);\n",
              "    animation:\n",
              "      spin 1s steps(1) infinite;\n",
              "  }\n",
              "\n",
              "  @keyframes spin {\n",
              "    0% {\n",
              "      border-color: transparent;\n",
              "      border-bottom-color: var(--fill-color);\n",
              "      border-left-color: var(--fill-color);\n",
              "    }\n",
              "    20% {\n",
              "      border-color: transparent;\n",
              "      border-left-color: var(--fill-color);\n",
              "      border-top-color: var(--fill-color);\n",
              "    }\n",
              "    30% {\n",
              "      border-color: transparent;\n",
              "      border-left-color: var(--fill-color);\n",
              "      border-top-color: var(--fill-color);\n",
              "      border-right-color: var(--fill-color);\n",
              "    }\n",
              "    40% {\n",
              "      border-color: transparent;\n",
              "      border-right-color: var(--fill-color);\n",
              "      border-top-color: var(--fill-color);\n",
              "    }\n",
              "    60% {\n",
              "      border-color: transparent;\n",
              "      border-right-color: var(--fill-color);\n",
              "    }\n",
              "    80% {\n",
              "      border-color: transparent;\n",
              "      border-right-color: var(--fill-color);\n",
              "      border-bottom-color: var(--fill-color);\n",
              "    }\n",
              "    90% {\n",
              "      border-color: transparent;\n",
              "      border-bottom-color: var(--fill-color);\n",
              "    }\n",
              "  }\n",
              "</style>\n",
              "\n",
              "  <script>\n",
              "    async function quickchart(key) {\n",
              "      const quickchartButtonEl =\n",
              "        document.querySelector('#' + key + ' button');\n",
              "      quickchartButtonEl.disabled = true;  // To prevent multiple clicks.\n",
              "      quickchartButtonEl.classList.add('colab-df-spinner');\n",
              "      try {\n",
              "        const charts = await google.colab.kernel.invokeFunction(\n",
              "            'suggestCharts', [key], {});\n",
              "      } catch (error) {\n",
              "        console.error('Error during call to suggestCharts:', error);\n",
              "      }\n",
              "      quickchartButtonEl.classList.remove('colab-df-spinner');\n",
              "      quickchartButtonEl.classList.add('colab-df-quickchart-complete');\n",
              "    }\n",
              "    (() => {\n",
              "      let quickchartButtonEl =\n",
              "        document.querySelector('#df-514c4eb2-8a9b-4d97-a613-a3ba049aa4cb button');\n",
              "      quickchartButtonEl.style.display =\n",
              "        google.colab.kernel.accessAllowed ? 'block' : 'none';\n",
              "    })();\n",
              "  </script>\n",
              "</div>\n",
              "    </div>\n",
              "  </div>\n"
            ]
          },
          "metadata": {},
          "execution_count": 5
        }
      ]
    },
    {
      "cell_type": "markdown",
      "source": [
        "### JSON File"
      ],
      "metadata": {
        "id": "mKj9bhhO-sgQ"
      }
    },
    {
      "cell_type": "code",
      "source": [
        "covid_file = \"confirmed-cases.json\""
      ],
      "metadata": {
        "id": "JAF7S-4n_FXY"
      },
      "execution_count": null,
      "outputs": []
    },
    {
      "cell_type": "code",
      "source": [
        "# How big is the file\n",
        "print(covid_file, \"is\", os.path.getsize(covid_file) / 1e6, \"MB\")\n",
        "\n",
        "# How many lines does it have?\n",
        "with open(covid_file, \"r\") as f:\n",
        "    print(covid_file, \"is\", sum(1 for l in f), \"lines.\")"
      ],
      "metadata": {
        "id": "TVLPm_Qo6y8i",
        "colab": {
          "base_uri": "https://localhost:8080/"
        },
        "outputId": "658ae4b4-7e4e-40cc-9e40-6bf49f020768"
      },
      "execution_count": null,
      "outputs": [
        {
          "output_type": "stream",
          "name": "stdout",
          "text": [
            "confirmed-cases.json is 0.116367 MB\n",
            "confirmed-cases.json is 1110 lines.\n"
          ]
        }
      ]
    },
    {
      "cell_type": "code",
      "source": [
        "# How do we read the file into Pandas?\n",
        "import json\n",
        "\n",
        "with open(covid_file, \"rb\") as f:\n",
        "    covid_json = json.load(f)\n",
        "\n",
        "type(covid_json)"
      ],
      "metadata": {
        "id": "AtNswMHN_LG4",
        "colab": {
          "base_uri": "https://localhost:8080/"
        },
        "outputId": "202f8eb4-432a-41d0-eac2-6064b749e7c2"
      },
      "execution_count": null,
      "outputs": [
        {
          "output_type": "execute_result",
          "data": {
            "text/plain": [
              "dict"
            ]
          },
          "metadata": {},
          "execution_count": 9
        }
      ]
    },
    {
      "cell_type": "code",
      "source": [
        " # list the keys to determine what data is stored in the object.\n",
        "covid_json.keys()"
      ],
      "metadata": {
        "id": "s07ej4e3_tqA",
        "colab": {
          "base_uri": "https://localhost:8080/"
        },
        "outputId": "5a6d808d-13cf-40d9-fa6a-ff597737ea27"
      },
      "execution_count": null,
      "outputs": [
        {
          "output_type": "execute_result",
          "data": {
            "text/plain": [
              "dict_keys(['meta', 'data'])"
            ]
          },
          "metadata": {},
          "execution_count": 10
        }
      ]
    },
    {
      "cell_type": "code",
      "source": [
        "# examin the keys associated with the metadata.\n",
        "covid_json['meta'].keys()\n",
        "\n",
        "# Note: The meta key contains another dictionary called view"
      ],
      "metadata": {
        "id": "aTnuxVe3AFsY",
        "colab": {
          "base_uri": "https://localhost:8080/"
        },
        "outputId": "e2e1925b-f4b0-4f79-cc4a-1a61e4d28b6d"
      },
      "execution_count": null,
      "outputs": [
        {
          "output_type": "execute_result",
          "data": {
            "text/plain": [
              "dict_keys(['view'])"
            ]
          },
          "metadata": {},
          "execution_count": 11
        }
      ]
    },
    {
      "cell_type": "code",
      "source": [
        "covid_json['meta']['view'].keys()"
      ],
      "metadata": {
        "id": "QNrt_JhGBua3",
        "colab": {
          "base_uri": "https://localhost:8080/"
        },
        "outputId": "c2898a27-0bbc-4ae2-cb4b-f8771dfe5615"
      },
      "execution_count": null,
      "outputs": [
        {
          "output_type": "execute_result",
          "data": {
            "text/plain": [
              "dict_keys(['id', 'name', 'assetType', 'attribution', 'averageRating', 'category', 'createdAt', 'description', 'displayType', 'downloadCount', 'hideFromCatalog', 'hideFromDataJson', 'newBackend', 'numberOfComments', 'oid', 'provenance', 'publicationAppendEnabled', 'publicationDate', 'publicationGroup', 'publicationStage', 'rowsUpdatedAt', 'rowsUpdatedBy', 'tableId', 'totalTimesRated', 'viewCount', 'viewLastModified', 'viewType', 'approvals', 'columns', 'grants', 'metadata', 'owner', 'query', 'rights', 'tableAuthor', 'tags', 'flags'])"
            ]
          },
          "metadata": {},
          "execution_count": 12
        }
      ]
    },
    {
      "cell_type": "markdown",
      "source": [
        "Notice that this a nested/recursive data structure.  As we dig deeper we reveal more and more keys and the corresponding data:\n",
        "\n",
        "```\n",
        "meta\n",
        "\n",
        "|-> view\n",
        "    | -> id\n",
        "    | -> name\n",
        "    | -> attribution\n",
        "    ...\n",
        "    | -> description\n",
        "    ...\n",
        "    | -> columns\n",
        "    ...\n",
        "|-> data\n",
        "    | ... (haven't explored yet)\n",
        "```"
      ],
      "metadata": {
        "id": "uXLzja0FCaf_"
      }
    },
    {
      "cell_type": "code",
      "source": [
        "#There is a key called description in the view sub dictionary. This likely contains a description of the data:\n",
        "print(covid_json['meta']['view']['description'])"
      ],
      "metadata": {
        "id": "iAYY1B1TCaJX",
        "colab": {
          "base_uri": "https://localhost:8080/"
        },
        "outputId": "9422fbc2-6bdd-45d7-e5bf-73388902c92b"
      },
      "execution_count": null,
      "outputs": [
        {
          "output_type": "stream",
          "name": "stdout",
          "text": [
            "Counts of confirmed COVID-19 cases among Berkeley residents by date.\n"
          ]
        }
      ]
    },
    {
      "cell_type": "code",
      "source": [
        "type(covid_json['meta']['view']['columns'])"
      ],
      "metadata": {
        "colab": {
          "base_uri": "https://localhost:8080/"
        },
        "id": "W-QYKwSgD-7H",
        "outputId": "a0053d95-8f55-4c9e-e395-02b9360552fa"
      },
      "execution_count": null,
      "outputs": [
        {
          "output_type": "execute_result",
          "data": {
            "text/plain": [
              "list"
            ]
          },
          "metadata": {},
          "execution_count": 14
        }
      ]
    },
    {
      "cell_type": "code",
      "source": [
        "# Load the data from JSON and assign column titles\n",
        "covid = pd.DataFrame(\n",
        "    covid_json['data'],\n",
        "    columns=[c['name'] for c in covid_json['meta']['view']['columns']])\n",
        "\n",
        "covid.tail()"
      ],
      "metadata": {
        "colab": {
          "base_uri": "https://localhost:8080/",
          "height": 354
        },
        "id": "7TS9g02zDfL_",
        "outputId": "8940340d-c587-4c25-bbe0-14328d559774"
      },
      "execution_count": null,
      "outputs": [
        {
          "output_type": "execute_result",
          "data": {
            "text/plain": [
              "                    sid                                    id  position  \\\n",
              "699  row-49b6_x8zv.gyum  00000000-0000-0000-A18C-9174A6D05774         0   \n",
              "700  row-gs55-p5em.y4v9  00000000-0000-0000-F41D-5724AEABB4D6         0   \n",
              "701  row-3pyj.tf95-qu67  00000000-0000-0000-BEE3-B0188D2518BD         0   \n",
              "702  row-cgnd.8syv.jvjn  00000000-0000-0000-C318-63CF75F7F740         0   \n",
              "703  row-qywv_24x6-237y  00000000-0000-0000-FE92-9789FED3AA20         0   \n",
              "\n",
              "     created_at created_meta  updated_at updated_meta meta  \\\n",
              "699  1643733903         None  1643733903         None  { }   \n",
              "700  1643733903         None  1643733903         None  { }   \n",
              "701  1643733903         None  1643733903         None  { }   \n",
              "702  1643733903         None  1643733903         None  { }   \n",
              "703  1643733903         None  1643733903         None  { }   \n",
              "\n",
              "                    Date New Cases Cumulative Cases  \n",
              "699  2022-01-27T00:00:00       106            10694  \n",
              "700  2022-01-28T00:00:00       223            10917  \n",
              "701  2022-01-29T00:00:00       139            11056  \n",
              "702  2022-01-30T00:00:00        33            11089  \n",
              "703  2022-01-31T00:00:00        42            11131  "
            ],
            "text/html": [
              "\n",
              "  <div id=\"df-b01d9089-b596-4dea-b0b1-00c027e4b398\">\n",
              "    <div class=\"colab-df-container\">\n",
              "      <div>\n",
              "<style scoped>\n",
              "    .dataframe tbody tr th:only-of-type {\n",
              "        vertical-align: middle;\n",
              "    }\n",
              "\n",
              "    .dataframe tbody tr th {\n",
              "        vertical-align: top;\n",
              "    }\n",
              "\n",
              "    .dataframe thead th {\n",
              "        text-align: right;\n",
              "    }\n",
              "</style>\n",
              "<table border=\"1\" class=\"dataframe\">\n",
              "  <thead>\n",
              "    <tr style=\"text-align: right;\">\n",
              "      <th></th>\n",
              "      <th>sid</th>\n",
              "      <th>id</th>\n",
              "      <th>position</th>\n",
              "      <th>created_at</th>\n",
              "      <th>created_meta</th>\n",
              "      <th>updated_at</th>\n",
              "      <th>updated_meta</th>\n",
              "      <th>meta</th>\n",
              "      <th>Date</th>\n",
              "      <th>New Cases</th>\n",
              "      <th>Cumulative Cases</th>\n",
              "    </tr>\n",
              "  </thead>\n",
              "  <tbody>\n",
              "    <tr>\n",
              "      <th>699</th>\n",
              "      <td>row-49b6_x8zv.gyum</td>\n",
              "      <td>00000000-0000-0000-A18C-9174A6D05774</td>\n",
              "      <td>0</td>\n",
              "      <td>1643733903</td>\n",
              "      <td>None</td>\n",
              "      <td>1643733903</td>\n",
              "      <td>None</td>\n",
              "      <td>{ }</td>\n",
              "      <td>2022-01-27T00:00:00</td>\n",
              "      <td>106</td>\n",
              "      <td>10694</td>\n",
              "    </tr>\n",
              "    <tr>\n",
              "      <th>700</th>\n",
              "      <td>row-gs55-p5em.y4v9</td>\n",
              "      <td>00000000-0000-0000-F41D-5724AEABB4D6</td>\n",
              "      <td>0</td>\n",
              "      <td>1643733903</td>\n",
              "      <td>None</td>\n",
              "      <td>1643733903</td>\n",
              "      <td>None</td>\n",
              "      <td>{ }</td>\n",
              "      <td>2022-01-28T00:00:00</td>\n",
              "      <td>223</td>\n",
              "      <td>10917</td>\n",
              "    </tr>\n",
              "    <tr>\n",
              "      <th>701</th>\n",
              "      <td>row-3pyj.tf95-qu67</td>\n",
              "      <td>00000000-0000-0000-BEE3-B0188D2518BD</td>\n",
              "      <td>0</td>\n",
              "      <td>1643733903</td>\n",
              "      <td>None</td>\n",
              "      <td>1643733903</td>\n",
              "      <td>None</td>\n",
              "      <td>{ }</td>\n",
              "      <td>2022-01-29T00:00:00</td>\n",
              "      <td>139</td>\n",
              "      <td>11056</td>\n",
              "    </tr>\n",
              "    <tr>\n",
              "      <th>702</th>\n",
              "      <td>row-cgnd.8syv.jvjn</td>\n",
              "      <td>00000000-0000-0000-C318-63CF75F7F740</td>\n",
              "      <td>0</td>\n",
              "      <td>1643733903</td>\n",
              "      <td>None</td>\n",
              "      <td>1643733903</td>\n",
              "      <td>None</td>\n",
              "      <td>{ }</td>\n",
              "      <td>2022-01-30T00:00:00</td>\n",
              "      <td>33</td>\n",
              "      <td>11089</td>\n",
              "    </tr>\n",
              "    <tr>\n",
              "      <th>703</th>\n",
              "      <td>row-qywv_24x6-237y</td>\n",
              "      <td>00000000-0000-0000-FE92-9789FED3AA20</td>\n",
              "      <td>0</td>\n",
              "      <td>1643733903</td>\n",
              "      <td>None</td>\n",
              "      <td>1643733903</td>\n",
              "      <td>None</td>\n",
              "      <td>{ }</td>\n",
              "      <td>2022-01-31T00:00:00</td>\n",
              "      <td>42</td>\n",
              "      <td>11131</td>\n",
              "    </tr>\n",
              "  </tbody>\n",
              "</table>\n",
              "</div>\n",
              "      <button class=\"colab-df-convert\" onclick=\"convertToInteractive('df-b01d9089-b596-4dea-b0b1-00c027e4b398')\"\n",
              "              title=\"Convert this dataframe to an interactive table.\"\n",
              "              style=\"display:none;\">\n",
              "        \n",
              "  <svg xmlns=\"http://www.w3.org/2000/svg\" height=\"24px\"viewBox=\"0 0 24 24\"\n",
              "       width=\"24px\">\n",
              "    <path d=\"M0 0h24v24H0V0z\" fill=\"none\"/>\n",
              "    <path d=\"M18.56 5.44l.94 2.06.94-2.06 2.06-.94-2.06-.94-.94-2.06-.94 2.06-2.06.94zm-11 1L8.5 8.5l.94-2.06 2.06-.94-2.06-.94L8.5 2.5l-.94 2.06-2.06.94zm10 10l.94 2.06.94-2.06 2.06-.94-2.06-.94-.94-2.06-.94 2.06-2.06.94z\"/><path d=\"M17.41 7.96l-1.37-1.37c-.4-.4-.92-.59-1.43-.59-.52 0-1.04.2-1.43.59L10.3 9.45l-7.72 7.72c-.78.78-.78 2.05 0 2.83L4 21.41c.39.39.9.59 1.41.59.51 0 1.02-.2 1.41-.59l7.78-7.78 2.81-2.81c.8-.78.8-2.07 0-2.86zM5.41 20L4 18.59l7.72-7.72 1.47 1.35L5.41 20z\"/>\n",
              "  </svg>\n",
              "      </button>\n",
              "      \n",
              "  <style>\n",
              "    .colab-df-container {\n",
              "      display:flex;\n",
              "      flex-wrap:wrap;\n",
              "      gap: 12px;\n",
              "    }\n",
              "\n",
              "    .colab-df-convert {\n",
              "      background-color: #E8F0FE;\n",
              "      border: none;\n",
              "      border-radius: 50%;\n",
              "      cursor: pointer;\n",
              "      display: none;\n",
              "      fill: #1967D2;\n",
              "      height: 32px;\n",
              "      padding: 0 0 0 0;\n",
              "      width: 32px;\n",
              "    }\n",
              "\n",
              "    .colab-df-convert:hover {\n",
              "      background-color: #E2EBFA;\n",
              "      box-shadow: 0px 1px 2px rgba(60, 64, 67, 0.3), 0px 1px 3px 1px rgba(60, 64, 67, 0.15);\n",
              "      fill: #174EA6;\n",
              "    }\n",
              "\n",
              "    [theme=dark] .colab-df-convert {\n",
              "      background-color: #3B4455;\n",
              "      fill: #D2E3FC;\n",
              "    }\n",
              "\n",
              "    [theme=dark] .colab-df-convert:hover {\n",
              "      background-color: #434B5C;\n",
              "      box-shadow: 0px 1px 3px 1px rgba(0, 0, 0, 0.15);\n",
              "      filter: drop-shadow(0px 1px 2px rgba(0, 0, 0, 0.3));\n",
              "      fill: #FFFFFF;\n",
              "    }\n",
              "  </style>\n",
              "\n",
              "      <script>\n",
              "        const buttonEl =\n",
              "          document.querySelector('#df-b01d9089-b596-4dea-b0b1-00c027e4b398 button.colab-df-convert');\n",
              "        buttonEl.style.display =\n",
              "          google.colab.kernel.accessAllowed ? 'block' : 'none';\n",
              "\n",
              "        async function convertToInteractive(key) {\n",
              "          const element = document.querySelector('#df-b01d9089-b596-4dea-b0b1-00c027e4b398');\n",
              "          const dataTable =\n",
              "            await google.colab.kernel.invokeFunction('convertToInteractive',\n",
              "                                                     [key], {});\n",
              "          if (!dataTable) return;\n",
              "\n",
              "          const docLinkHtml = 'Like what you see? Visit the ' +\n",
              "            '<a target=\"_blank\" href=https://colab.research.google.com/notebooks/data_table.ipynb>data table notebook</a>'\n",
              "            + ' to learn more about interactive tables.';\n",
              "          element.innerHTML = '';\n",
              "          dataTable['output_type'] = 'display_data';\n",
              "          await google.colab.output.renderOutput(dataTable, element);\n",
              "          const docLink = document.createElement('div');\n",
              "          docLink.innerHTML = docLinkHtml;\n",
              "          element.appendChild(docLink);\n",
              "        }\n",
              "      </script>\n",
              "    </div>\n",
              "  </div>\n",
              "  "
            ]
          },
          "metadata": {},
          "execution_count": 15
        }
      ]
    },
    {
      "cell_type": "code",
      "source": [
        "# Check the data type of columns in covid dataframe\n",
        "covid[\"sid\"].dtype\n"
      ],
      "metadata": {
        "id": "L0pvDuvTZR8y",
        "colab": {
          "base_uri": "https://localhost:8080/"
        },
        "outputId": "1b45b69f-57ab-46da-f2e7-751c60d715f4"
      },
      "execution_count": null,
      "outputs": [
        {
          "output_type": "execute_result",
          "data": {
            "text/plain": [
              "dtype('O')"
            ]
          },
          "metadata": {},
          "execution_count": 16
        }
      ]
    }
  ]
}